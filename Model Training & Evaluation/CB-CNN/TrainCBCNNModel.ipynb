{
 "cells": [
  {
   "cell_type": "code",
   "execution_count": 1,
   "metadata": {},
   "outputs": [],
   "source": [
    "import numpy as np\n",
    "import matplotlib.pyplot as plt\n",
    "import cv2\n",
    "import pandas as pd\n",
    "from tensorflow.keras.models import Sequential\n",
    "from tensorflow.keras.layers import Dense, Dropout, Flatten\n",
    "from tensorflow.keras.layers import Conv2D\n",
    "from tensorflow.keras.optimizers import Adam\n",
    "from tensorflow.keras.layers import MaxPooling2D\n",
    "from sklearn.preprocessing import LabelEncoder\n",
    "from tensorflow.keras.preprocessing.image import ImageDataGenerator\n",
    "import tensorflow as tf\n",
    "import time\n",
    "import os\n",
    "\n",
    "# some_file.py\n",
    "import sys\n",
    "# caution: path[0] is reserved for script path (or '' in REPL)\n",
    "sys.path.insert(1, '/Users/tirth/projects/college/DATA-298-MSDAProject/project/Model Training & Evaluation/__helpers')\n",
    "\n",
    "import evaluation\n",
    "from model_layers import get_CB_CNN_model\n",
    "os.environ['TF_CPP_MIN_LOG_LEVEL'] = '2'"
   ]
  },
  {
   "cell_type": "code",
   "execution_count": 2,
   "metadata": {},
   "outputs": [],
   "source": [
    "batch_size = 64\n",
    "num_epoch = 50\n",
    "num_class = 5"
   ]
  },
  {
   "cell_type": "code",
   "execution_count": 3,
   "metadata": {},
   "outputs": [],
   "source": [
    "\n",
    "def plot_model_history(model_history):\n",
    "    \"\"\"\n",
    "    Plot Accuracy and Loss curves given the model_history\n",
    "    \"\"\"\n",
    "    fig, axs = plt.subplots(1,2,figsize=(15,5))\n",
    "    # summarize history for accuracy\n",
    "    axs[0].plot(range(1,len(model_history['history']['accuracy'])+1),model_history['history']['accuracy'])\n",
    "    axs[0].plot(range(1,len(model_history['history']['val_accuracy'])+1),model_history['history']['val_accuracy'])\n",
    "    axs[0].set_title('Model Accuracy')\n",
    "    axs[0].set_ylabel('Accuracy')\n",
    "    axs[0].set_xlabel('Epoch')\n",
    "    axs[0].set_xticks(np.arange(1,len(model_history['history']['accuracy'])+1, 3))\n",
    "    axs[0].legend(['train', 'val'], loc='best')\n",
    "    # summarize history for loss\n",
    "    axs[1].plot(range(1,len(model_history['history']['loss'])+1),model_history['history']['loss'])\n",
    "    axs[1].plot(range(1,len(model_history['history']['val_loss'])+1),model_history['history']['val_loss'])\n",
    "    axs[1].set_title('Model Loss')\n",
    "    axs[1].set_ylabel('Loss')\n",
    "    axs[1].set_xlabel('Epoch')\n",
    "    axs[1].set_xticks(np.arange(1,len(model_history['history']['loss'])+1, 3))\n",
    "    axs[1].legend(['train', 'val'], loc='best')\n",
    "    fig.savefig('plot.png')\n",
    "    plt.show()\n"
   ]
  },
  {
   "cell_type": "code",
   "execution_count": 4,
   "metadata": {},
   "outputs": [],
   "source": [
    "def load_dataset(data_dir):\n",
    "    X = []\n",
    "    Y = []\n",
    "    for category in os.listdir(data_dir):\n",
    "        category_path = os.path.join(data_dir, category)\n",
    "        for file_name in os.listdir(category_path):\n",
    "            file_path = os.path.join(category_path, file_name)\n",
    "            if not os.path.exists(file_path):\n",
    "              print(file_path)\n",
    "            image = cv2.imread(file_path)\n",
    "            image = cv2.cvtColor(image, cv2.COLOR_BGR2GRAY)\n",
    "            image = cv2.resize(image, (96, 96))\n",
    "            X.append(image)\n",
    "            Y.append(category)\n",
    "    X = np.array(X)\n",
    "    Y = np.array(Y)\n",
    "    return X, Y\n",
    "\n",
    "train_images, train_labels = load_dataset('dataset/train')\n",
    "test_images, test_labels = load_dataset('dataset/test')\n",
    "\n",
    "# Normalize the images\n",
    "train_images = train_images.astype('float32') / 255\n",
    "test_images = test_images.astype('float32') / 255\n",
    "\n",
    "# Convert class vectors to binary class matrices\n",
    "le = LabelEncoder()\n",
    "train_labels = le.fit_transform(train_labels)\n",
    "test_labels = le.transform(test_labels)\n",
    "\n",
    "train_labels = tf.keras.utils.to_categorical(train_labels, num_class)\n",
    "test_labels = tf.keras.utils.to_categorical(test_labels, num_class)\n",
    "\n",
    "# Split training dataset into training and validation dataset\n",
    "validation_split = 0.2\n",
    "indices = np.random.permutation(train_images.shape[0])\n",
    "train_indices = indices[:int(train_images.shape[0] * (1 - validation_split))]\n",
    "val_indices = indices[int(train_images.shape[0] * (1 - validation_split)):]\n",
    "\n",
    "val_images, val_labels = train_images[val_indices], train_labels[val_indices]\n",
    "train_images, train_labels = train_images[train_indices], train_labels[train_indices]"
   ]
  },
  {
   "cell_type": "code",
   "execution_count": 5,
   "metadata": {},
   "outputs": [
    {
     "data": {
      "text/plain": [
       "array(['back', 'buy', 'more', 'next', 'previous'], dtype='<U8')"
      ]
     },
     "execution_count": 5,
     "metadata": {},
     "output_type": "execute_result"
    }
   ],
   "source": [
    "le.classes_"
   ]
  },
  {
   "cell_type": "code",
   "execution_count": 6,
   "metadata": {},
   "outputs": [
    {
     "data": {
      "text/plain": [
       "((96, 96), (96, 96))"
      ]
     },
     "execution_count": 6,
     "metadata": {},
     "output_type": "execute_result"
    }
   ],
   "source": [
    "train_images[0].shape, val_images[0].shape"
   ]
  },
  {
   "cell_type": "code",
   "execution_count": 7,
   "metadata": {},
   "outputs": [],
   "source": [
    "def custom_loss(y_true, y_pred):\n",
    "    # Define penalty\n",
    "    penalty = 1\n",
    "\n",
    "    # Compute cross-entropy loss\n",
    "    ce_loss = tf.keras.losses.categorical_crossentropy(y_true, y_pred)\n",
    "\n",
    "    # Compute penalty for misclassifications\n",
    "    pred_labels = tf.argmax(y_pred, axis=1)\n",
    "    true_labels = tf.argmax(y_true, axis=1)\n",
    "    incorrect_preds = tf.not_equal(pred_labels, true_labels)\n",
    "    penalty_loss = tf.cast(incorrect_preds, tf.float32) * penalty\n",
    "\n",
    "    # Compute total loss\n",
    "    total_loss = ce_loss + penalty_loss\n",
    "\n",
    "    return total_loss"
   ]
  },
  {
   "cell_type": "code",
   "execution_count": 8,
   "metadata": {},
   "outputs": [
    {
     "name": "stdout",
     "output_type": "stream",
     "text": [
      "Metal device set to: Apple M1 Max\n",
      "\n",
      "systemMemory: 32.00 GB\n",
      "maxCacheSize: 10.67 GB\n",
      "\n"
     ]
    }
   ],
   "source": [
    "\n",
    "# Create the model\n",
    "model = get_CB_CNN_model(num_class)\n",
    "model.compile(loss=custom_loss, optimizer=Adam(learning_rate=0.00001, decay=1e-6),metrics=['accuracy'])"
   ]
  },
  {
   "cell_type": "code",
   "execution_count": 9,
   "metadata": {},
   "outputs": [
    {
     "name": "stdout",
     "output_type": "stream",
     "text": [
      "Model: \"sequential\"\n",
      "_________________________________________________________________\n",
      " Layer (type)                Output Shape              Param #   \n",
      "=================================================================\n",
      " conv2d (Conv2D)             (None, 94, 94, 32)        320       \n",
      "                                                                 \n",
      " conv2d_1 (Conv2D)           (None, 92, 92, 64)        18496     \n",
      "                                                                 \n",
      " max_pooling2d (MaxPooling2D  (None, 46, 46, 64)       0         \n",
      " )                                                               \n",
      "                                                                 \n",
      " dropout (Dropout)           (None, 46, 46, 64)        0         \n",
      "                                                                 \n",
      " conv2d_2 (Conv2D)           (None, 44, 44, 128)       73856     \n",
      "                                                                 \n",
      " max_pooling2d_1 (MaxPooling  (None, 22, 22, 128)      0         \n",
      " 2D)                                                             \n",
      "                                                                 \n",
      " conv2d_3 (Conv2D)           (None, 20, 20, 128)       147584    \n",
      "                                                                 \n",
      " max_pooling2d_2 (MaxPooling  (None, 10, 10, 128)      0         \n",
      " 2D)                                                             \n",
      "                                                                 \n",
      " dropout_1 (Dropout)         (None, 10, 10, 128)       0         \n",
      "                                                                 \n",
      " flatten (Flatten)           (None, 12800)             0         \n",
      "                                                                 \n",
      " dense (Dense)               (None, 1024)              13108224  \n",
      "                                                                 \n",
      " dropout_2 (Dropout)         (None, 1024)              0         \n",
      "                                                                 \n",
      " dense_1 (Dense)             (None, 5)                 5125      \n",
      "                                                                 \n",
      "=================================================================\n",
      "Total params: 13,353,605\n",
      "Trainable params: 13,353,605\n",
      "Non-trainable params: 0\n",
      "_________________________________________________________________\n"
     ]
    }
   ],
   "source": [
    "model.summary()"
   ]
  },
  {
   "cell_type": "code",
   "execution_count": 10,
   "metadata": {},
   "outputs": [],
   "source": [
    "model_info = None\n",
    "model.load_weights('model_CB-CNN.h5')"
   ]
  },
  {
   "cell_type": "code",
   "execution_count": 11,
   "metadata": {},
   "outputs": [],
   "source": [
    "model_info = None\n",
    "early_stopping = tf.keras.callbacks.EarlyStopping(monitor='val_loss', patience=3)\n",
    "try:\n",
    "  model.load_weights('model_CB-CNN.h5')\n",
    "except:\n",
    "  start_time = time.time()\n",
    "  model_info = model.fit(\n",
    "            train_images,\n",
    "            train_labels,\n",
    "            epochs=num_epoch,\n",
    "            batch_size=batch_size,\n",
    "            callbacks=[early_stopping],\n",
    "            validation_data=(val_images, val_labels))\n",
    "  end_time = time.time()\n",
    "  print('Training Time: ', end_time-start_time)\n",
    "  model.save_weights('model_CB-CNN.h5')\n",
    "  np.save('history.npy', model_info.history)"
   ]
  },
  {
   "cell_type": "code",
   "execution_count": 12,
   "metadata": {},
   "outputs": [
    {
     "name": "stdout",
     "output_type": "stream",
     "text": [
      "115/115 [==============================] - 3s 14ms/step - loss: 0.0152 - accuracy: 0.9981\n",
      "Evaluation Time:  3.1628220081329346\n"
     ]
    }
   ],
   "source": [
    "start_time = time.time()\n",
    "model.evaluate(test_images, test_labels)\n",
    "end_time = time.time()\n",
    "print('Evaluation Time: ', end_time-start_time)"
   ]
  },
  {
   "cell_type": "code",
   "execution_count": 13,
   "metadata": {},
   "outputs": [
    {
     "name": "stdout",
     "output_type": "stream",
     "text": [
      "Testing Time for 3652 images:  1.1624667644500732\n",
      "y_pred 3\n",
      "y_actual 3\n"
     ]
    }
   ],
   "source": [
    "start_time = time.time()\n",
    "Y_pred = model.predict(test_images)\n",
    "end_time = time.time()\n",
    "print(f'Testing Time for {len(test_images)} images: ', end_time-start_time)\n",
    "y_pred = np.argmax(Y_pred, axis=1)\n",
    "\n",
    "test_labels_t = np.argmax(test_labels, axis=1)\n",
    "print('y_pred', y_pred[0])\n",
    "print('y_actual', test_labels_t[0])"
   ]
  },
  {
   "cell_type": "code",
   "execution_count": 14,
   "metadata": {},
   "outputs": [
    {
     "data": {
      "image/png": "[encoded data removed]",
      "text/plain": [
       "<Figure size 432x288 with 2 Axes>"
      ]
     },
     "metadata": {
      "needs_background": "light"
     },
     "output_type": "display_data"
    },
    {
     "name": "stdout",
     "output_type": "stream",
     "text": [
      "          Pred:0  Pred:1  Pred:2  Pred:3  Pred:4\n",
      "Actual:0     800       0       0       0       0\n",
      "Actual:1       0     678       0       0       0\n",
      "Actual:2       1       0     691       1       5\n",
      "Actual:3       0       0       0     626       0\n",
      "Actual:4       0       0       0       0     850\n",
      "              precision    recall  f1-score   support\n",
      "\n",
      "        back       1.00      1.00      1.00       801\n",
      "         buy       1.00      1.00      1.00       678\n",
      "        more       0.99      1.00      0.99       691\n",
      "        next       1.00      1.00      1.00       627\n",
      "    previous       1.00      0.99      1.00       855\n",
      "\n",
      "    accuracy                           1.00      3652\n",
      "   macro avg       1.00      1.00      1.00      3652\n",
      "weighted avg       1.00      1.00      1.00      3652\n",
      "\n",
      "Accuracy of the test set:  0.9980832420591457\n",
      "Cohen Kappa Value:  0.9975962501351663\n",
      "Percent Back correctly predicted:  100.0\n",
      "Percent Buy correctly predicted:  100.0\n",
      "Percent More correctly predicted:  98.99713467048711\n",
      "Percent Next correctly predicted:  100.0\n",
      "Percent Previous correctly predicted:  100.0\n"
     ]
    },
    {
     "data": {
      "image/png": "[encoded data removed]",
      "text/plain": [
       "<Figure size 864x576 with 1 Axes>"
      ]
     },
     "metadata": {
      "needs_background": "light"
     },
     "output_type": "display_data"
    },
    {
     "data": {
      "image/png": "[encoded data removed]",
      "text/plain": [
       "<Figure size 1080x360 with 2 Axes>"
      ]
     },
     "metadata": {
      "needs_background": "light"
     },
     "output_type": "display_data"
    }
   ],
   "source": [
    "evaluation.print_performance(y_pred, test_labels_t)\n",
    "evaluation.multiclass_roc_auc_score(test_labels_t, y_pred)\n",
    "\n",
    "g = {}\n",
    "model_info = { 'history': np.load('history.npy', allow_pickle=True).item() }\n",
    "\n",
    "\n",
    "plot_model_history(model_info)"
   ]
  }
 ],
 "metadata": {
  "kernelspec": {
   "display_name": "dev_env",
   "language": "python",
   "name": "python3"
  },
  "language_info": {
   "codemirror_mode": {
    "name": "ipython",
    "version": 3
   },
   "file_extension": ".py",
   "mimetype": "text/x-python",
   "name": "python",
   "nbconvert_exporter": "python",
   "pygments_lexer": "ipython3",
   "version": "3.8.13"
  },
  "orig_nbformat": 4
 },
 "nbformat": 4,
 "nbformat_minor": 2
}
